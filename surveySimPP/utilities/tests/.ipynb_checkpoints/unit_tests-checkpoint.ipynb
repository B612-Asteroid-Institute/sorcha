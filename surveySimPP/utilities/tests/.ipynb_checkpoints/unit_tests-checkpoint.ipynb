{
 "cells": [
  {
   "cell_type": "code",
   "execution_count": 26,
   "id": "5a2c1fd7",
   "metadata": {},
   "outputs": [],
   "source": [
    "import pandas as pd\n",
    "import numpy as np\n",
    "import os\n",
    "import sqlite3\n",
    "import glob\n",
    "import pytest\n",
    "from numpy.testing import assert_almost_equal, assert_equal\n",
    "from pandas.testing import assert_frame_equal\n",
    "from surveySimPP.tests.data import get_test_filepath\n",
    "from numpy.random import default_rng"
   ]
  },
  {
   "cell_type": "code",
   "execution_count": 2,
   "id": "b893da1d",
   "metadata": {},
   "outputs": [],
   "source": [
    "from surveySimPP.utilities.makeSLURMscript import makeSLURM"
   ]
  },
  {
   "cell_type": "code",
   "execution_count": 43,
   "id": "f07f7b6c",
   "metadata": {},
   "outputs": [],
   "source": [
    "class args:\n",
    "    def __init__(self, filename, oss, sss, dc):\n",
    "        \n",
    "        abspath = os.path.dirname(get_test_filepath('oiftestoutput.txt'))\n",
    "        \n",
    "        args.filename = filename\n",
    "        args.inputs = '../../tests/data/'\n",
    "        args.deletecache = True\n",
    "        args.os = oss\n",
    "        args.ss = sss\n",
    "        args.ssppcon = '../../tests/data/test_PPConfig.ini'\n",
    "        args.oifout = os.path.relpath(abspath)\n",
    "        args.allout = os.path.relpath(abspath)\n",
    "        args.comet = False\n",
    "        args.dr = False\n",
    "        args.dc = dc\n",
    "        args.dw = False\n",
    "        args.dl = False\n",
    "        args.ncores = 0\n",
    "        args.jobname = 'test'"
   ]
  },
  {
   "cell_type": "code",
   "execution_count": 35,
   "id": "6f1b2a64",
   "metadata": {},
   "outputs": [],
   "source": [
    "temp_path = os.path.dirname(get_test_filepath('oiftestoutput.txt'))"
   ]
  },
  {
   "cell_type": "code",
   "execution_count": 39,
   "id": "132e038e",
   "metadata": {},
   "outputs": [],
   "source": [
    "test_args = args(os.path.join(temp_path, 'testSLURMout_3.sh'), False, True, False)"
   ]
  },
  {
   "cell_type": "code",
   "execution_count": 41,
   "id": "4d9b2fcd",
   "metadata": {},
   "outputs": [],
   "source": [
    "makeSLURM(test_args)"
   ]
  },
  {
   "cell_type": "code",
   "execution_count": 42,
   "id": "f809723a",
   "metadata": {},
   "outputs": [],
   "source": [
    "testfile = open(get_test_filepath('testSLURMout_3.sh'), mode='r')\n",
    "newfile = open(get_test_filepath('testSLURM_3.sh'), mode='r')\n",
    "\n",
    "alltest = testfile.readlines()\n",
    "allnew = newfile.readlines()\n",
    "\n",
    "testfile.close()\n",
    "newfile.close()\n",
    "\n",
    "assert alltest == allnew"
   ]
  },
  {
   "cell_type": "code",
   "execution_count": 55,
   "id": "64d31dfe",
   "metadata": {},
   "outputs": [],
   "source": [
    "assert_frame_equal(test_database, expected_database)"
   ]
  },
  {
   "cell_type": "code",
   "execution_count": 20,
   "id": "06adf2f8",
   "metadata": {},
   "outputs": [
    {
     "ename": "NameError",
     "evalue": "name '__file__' is not defined",
     "output_type": "error",
     "traceback": [
      "\u001b[0;31m---------------------------------------------------------------------------\u001b[0m",
      "\u001b[0;31mNameError\u001b[0m                                 Traceback (most recent call last)",
      "Cell \u001b[0;32mIn[20], line 1\u001b[0m\n\u001b[0;32m----> 1\u001b[0m os\u001b[38;5;241m.\u001b[39mpath\u001b[38;5;241m.\u001b[39mrealpath(\u001b[38;5;18;43m__file__\u001b[39;49m)\n",
      "\u001b[0;31mNameError\u001b[0m: name '__file__' is not defined"
     ]
    }
   ],
   "source": [
    "os.path.realpath(__file__)"
   ]
  },
  {
   "cell_type": "code",
   "execution_count": 21,
   "id": "8dbf5296",
   "metadata": {},
   "outputs": [],
   "source": [
    "abspath = os.path.dirname(get_test_filepath('oiftestoutput.txt'))"
   ]
  },
  {
   "cell_type": "code",
   "execution_count": 23,
   "id": "16a761d7",
   "metadata": {},
   "outputs": [
    {
     "data": {
      "text/plain": [
       "'../../tests/data'"
      ]
     },
     "execution_count": 23,
     "metadata": {},
     "output_type": "execute_result"
    }
   ],
   "source": [
    "os.path.relpath(abspath)"
   ]
  },
  {
   "cell_type": "code",
   "execution_count": null,
   "id": "d180bcd6",
   "metadata": {},
   "outputs": [],
   "source": []
  }
 ],
 "metadata": {
  "kernelspec": {
   "display_name": "Python 3 (ipykernel)",
   "language": "python",
   "name": "python3"
  },
  "language_info": {
   "codemirror_mode": {
    "name": "ipython",
    "version": 3
   },
   "file_extension": ".py",
   "mimetype": "text/x-python",
   "name": "python",
   "nbconvert_exporter": "python",
   "pygments_lexer": "ipython3",
   "version": "3.10.8"
  }
 },
 "nbformat": 4,
 "nbformat_minor": 5
}
