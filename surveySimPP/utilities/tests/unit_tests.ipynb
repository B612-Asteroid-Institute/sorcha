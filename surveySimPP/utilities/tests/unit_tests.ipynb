{
 "cells": [
  {
   "cell_type": "code",
   "execution_count": 26,
   "id": "5a2c1fd7",
   "metadata": {},
   "outputs": [],
   "source": [
    "import pandas as pd\n",
    "import numpy as np\n",
    "import os\n",
    "import sqlite3\n",
    "import glob\n",
    "import pytest\n",
    "from numpy.testing import assert_almost_equal, assert_equal\n",
    "from pandas.testing import assert_frame_equal\n",
    "from surveySimPP.tests.data import get_test_filepath\n",
    "from numpy.random import default_rng"
   ]
  },
  {
   "cell_type": "code",
   "execution_count": 53,
   "id": "b893da1d",
   "metadata": {},
   "outputs": [],
   "source": [
    "from surveySimPP.utilities.makeSLURMscript import convert_args_to_absolute_paths"
   ]
  },
  {
   "cell_type": "code",
   "execution_count": 54,
   "id": "f07f7b6c",
   "metadata": {},
   "outputs": [],
   "source": [
    "class args:\n",
    "    def __init__(self, filename, oss, sss, dc, dr=False, dw=False, dl=False):\n",
    "        \n",
    "        abspath = os.path.dirname(get_test_filepath('oiftestoutput.txt'))\n",
    "        \n",
    "        args.filename = filename\n",
    "        args.inputs = '../../tests/data/'\n",
    "        args.deletecache = True\n",
    "        args.os = oss\n",
    "        args.ss = sss\n",
    "        args.ssppcon = '../../tests/data/test_PPConfig.ini'\n",
    "        args.oifout = os.path.relpath(abspath)\n",
    "        args.allout = os.path.relpath(abspath)\n",
    "        args.comet = False\n",
    "        args.dr = dr\n",
    "        args.dc = dc\n",
    "        args.dw = dw\n",
    "        args.dl = dl\n",
    "        args.ncores = 0\n",
    "        args.jobname = 'test'"
   ]
  },
  {
   "cell_type": "code",
   "execution_count": 47,
   "id": "6f1b2a64",
   "metadata": {},
   "outputs": [],
   "source": [
    "temp_path = os.path.dirname(get_test_filepath('oiftestoutput.txt'))"
   ]
  },
  {
   "cell_type": "code",
   "execution_count": 59,
   "id": "132e038e",
   "metadata": {},
   "outputs": [],
   "source": [
    "test_args = args(os.path.join(temp_path, 'testSLURM_5.sh'), False, False, False, dw=True, dl=True)"
   ]
  },
  {
   "cell_type": "code",
   "execution_count": 60,
   "id": "4d9b2fcd",
   "metadata": {},
   "outputs": [],
   "source": [
    "convargs = convert_args_to_absolute_paths(test_args)"
   ]
  },
  {
   "cell_type": "code",
   "execution_count": 61,
   "id": "706dc90b",
   "metadata": {},
   "outputs": [
    {
     "data": {
      "text/plain": [
       "'/Users/stephaniemerritt/Projects/survey_simulator_post_processing/surveySimPP/tests/data/testSLURM_5.sh'"
      ]
     },
     "execution_count": 61,
     "metadata": {},
     "output_type": "execute_result"
    }
   ],
   "source": [
    "convargs.filename"
   ]
  },
  {
   "cell_type": "code",
   "execution_count": 62,
   "id": "6d1c254e",
   "metadata": {},
   "outputs": [
    {
     "data": {
      "text/plain": [
       "'/Users/stephaniemerritt/Projects/survey_simulator_post_processing/surveySimPP/tests/data'"
      ]
     },
     "execution_count": 62,
     "metadata": {},
     "output_type": "execute_result"
    }
   ],
   "source": [
    "convargs.inputs"
   ]
  },
  {
   "cell_type": "code",
   "execution_count": 63,
   "id": "6a43f8ad",
   "metadata": {},
   "outputs": [
    {
     "data": {
      "text/plain": [
       "'/Users/stephaniemerritt/Projects/survey_simulator_post_processing/surveySimPP/tests/data/test_PPConfig.ini'"
      ]
     },
     "execution_count": 63,
     "metadata": {},
     "output_type": "execute_result"
    }
   ],
   "source": [
    "convargs.ssppcon"
   ]
  },
  {
   "cell_type": "code",
   "execution_count": 64,
   "id": "b97c69aa",
   "metadata": {},
   "outputs": [
    {
     "data": {
      "text/plain": [
       "'/Users/stephaniemerritt/Projects/survey_simulator_post_processing/surveySimPP/tests/data'"
      ]
     },
     "execution_count": 64,
     "metadata": {},
     "output_type": "execute_result"
    }
   ],
   "source": [
    "convargs.oifout"
   ]
  },
  {
   "cell_type": "code",
   "execution_count": 65,
   "id": "36612f02",
   "metadata": {},
   "outputs": [
    {
     "data": {
      "text/plain": [
       "'/Users/stephaniemerritt/Projects/survey_simulator_post_processing/surveySimPP/tests/data'"
      ]
     },
     "execution_count": 65,
     "metadata": {},
     "output_type": "execute_result"
    }
   ],
   "source": [
    "convargs.allout"
   ]
  },
  {
   "cell_type": "code",
   "execution_count": 69,
   "id": "603a9a79",
   "metadata": {},
   "outputs": [],
   "source": [
    "assert convargs.filename == get_test_filepath('testSLURM_5.sh')\n",
    "assert convargs.inputs == temp_path\n",
    "assert convargs.ssppcon == get_test_filepath('test_PPConfig.ini')\n",
    "assert convargs.oifout == temp_path\n",
    "assert convargs.allout == temp_path"
   ]
  },
  {
   "cell_type": "code",
   "execution_count": null,
   "id": "af26b4ca",
   "metadata": {},
   "outputs": [],
   "source": []
  }
 ],
 "metadata": {
  "kernelspec": {
   "display_name": "Python 3 (ipykernel)",
   "language": "python",
   "name": "python3"
  },
  "language_info": {
   "codemirror_mode": {
    "name": "ipython",
    "version": 3
   },
   "file_extension": ".py",
   "mimetype": "text/x-python",
   "name": "python",
   "nbconvert_exporter": "python",
   "pygments_lexer": "ipython3",
   "version": "3.10.8"
  }
 },
 "nbformat": 4,
 "nbformat_minor": 5
}
